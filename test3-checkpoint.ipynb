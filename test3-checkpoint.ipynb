{
 "cells": [
  {
   "cell_type": "code",
   "execution_count": 1,
   "id": "0721ac9d",
   "metadata": {},
   "outputs": [
    {
     "name": "stdout",
     "output_type": "stream",
     "text": [
      "Don't give denominator as zero\n"
     ]
    }
   ],
   "source": [
    "def exc(a,b):\n",
    "    try:\n",
    "        z=a/b\n",
    "        print(z)\n",
    "    except:\n",
    "        print(\"Don't give denominator as zero\")\n",
    "exc(5,0)"
   ]
  },
  {
   "cell_type": "code",
   "execution_count": 11,
   "id": "b3e1abd5",
   "metadata": {},
   "outputs": [
    {
     "name": "stdout",
     "output_type": "stream",
     "text": [
      "Americans play Baseball\n",
      "Americans play Cricket\n",
      "Americans watch Baseball\n",
      "Americans watch Cricket\n",
      "Indians play Baseball\n",
      "Indians play Cricket\n",
      "Indians watch Baseball\n",
      "Indians watch Cricket\n"
     ]
    }
   ],
   "source": [
    "def x():\n",
    "    subjects=['Americans','Indians']\n",
    "    verbs=['play','watch']\n",
    "    objects=['Baseball','Cricket']\n",
    "    for sub in subjects:\n",
    "        for ver in verbs:\n",
    "            for ob in objects:\n",
    "                print(sub+\" \"+ver+\" \"+ob)\n",
    "x()"
   ]
  },
  {
   "cell_type": "code",
   "execution_count": null,
   "id": "14b2e2a3",
   "metadata": {},
   "outputs": [],
   "source": []
  }
 ],
 "metadata": {
  "kernelspec": {
   "display_name": "Python 3 (ipykernel)",
   "language": "python",
   "name": "python3"
  },
  "language_info": {
   "codemirror_mode": {
    "name": "ipython",
    "version": 3
   },
   "file_extension": ".py",
   "mimetype": "text/x-python",
   "name": "python",
   "nbconvert_exporter": "python",
   "pygments_lexer": "ipython3",
   "version": "3.9.7"
  }
 },
 "nbformat": 4,
 "nbformat_minor": 5
}
